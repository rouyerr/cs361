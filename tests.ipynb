{
 "cells": [
  {
   "cell_type": "code",
   "execution_count": 1,
   "id": "7791b570-3ffa-4f31-9dcc-3380da08b87c",
   "metadata": {
    "tags": []
   },
   "outputs": [],
   "source": [
    "import import_games\n",
    "from board import Board\n",
    "import tree\n"
   ]
  },
  {
   "cell_type": "code",
   "execution_count": 2,
   "id": "84b73f54-56d5-4f50-9144-1fbc177d6a59",
   "metadata": {
    "tags": []
   },
   "outputs": [],
   "source": [
    "games = import_games.import_pgn_file(\"ingest_pgns\\\\lichess_study_urusov-gambit_by_remyrouyer_2020.11.21.pgn\")"
   ]
  },
  {
   "cell_type": "code",
   "execution_count": 3,
   "id": "1c24eb9f-3b48-4308-a8a0-10859c515d14",
   "metadata": {
    "tags": []
   },
   "outputs": [
    {
     "data": {
      "text/plain": [
       "[{'event ': 'Urusov Gambit: Chapter 1',\n",
       "  'site ': 'https://lichess.org/study/bUmK3HRF/Xh4mmWR8',\n",
       "  'result ': '*',\n",
       "  'utcdate ': '2020.11.21',\n",
       "  'utctime ': '13:57:40',\n",
       "  'variant ': 'Standard',\n",
       "  'eco ': 'C43',\n",
       "  'opening ': \"Bishop's Opening: Urusov Gambit, Keidansky Gambit\",\n",
       "  'annotator ': 'https://lichess.org/@/remyrouyer',\n",
       "  'moves': '1. e4 e5 2. Bc4 Nf6 3. d4 exd4 { [%csl Gf8] } (3... Nxe4 4. dxe5 { [%csl Gf3] } 4... d5 (4... Bc5 5. Qd5 Qh4 (5... Bxf2+ 6. Kf1 O-O 7. Qxe4 Bb6 (7... d5 8. Qxd5 Qh4 9. Nf3 Be6) 8. Nc3 c6 9. Bd3 g6 10. Nf3 d5 11. exd6) 6. g3 Bxf2+ 7. Kf1 Bxg3 8. Nc3 O-O 9. Nxe4 c6 10. hxg3 Qxh1 (10... cxd5 11. Rxh4 dxc4) 11. Nf6+ gxf6 12. Qxh1) (4... Nc5 5. Be3 (5. Qd5) 5... Nc6 6. Qe2 (6. Bxc5)) (4... Ng5 5. f4 Ne6) (4... Qh4 5. Be3) (4... Qe7 5. Qe2 Qxe5 (5... Nc5) 6. f3 d5 7. Bb3 Nc6) (4... Nc6 5. Bxf7+ Kxf7 6. Qd5+ Ke8 7. Qxe4 Qe7 8. Nf3 Qb4+ 9. Nc3 Qxe4+) (4... Nxf2 5. Qf3 Qe7 { [%csl Ge7,Gd5] } 6. Qxf2) 5. Bxd5 Nc5 (5... Nxf2 { [%cal Gd1f3] } 6. Qf3 Bb4+ 7. Kxf2 O-O 8. Nc3 Be6 9. Bxb7 Nd7 10. Bxa8 Nxe5 11. Qe4) 6. Bxf7+ Ke7 (6... Kxf7 7. Qxd8) 7. Bg5+ Kxf7 8. Qxd8) (3... Nc6 4. d5 Na5 (4... Ne7) 5. Bd3 b6 (5... Bc5 6. a3 Bb6 7. b4)) (3... d5 4. dxe5 Bb4+ 5. c3 Bc5 6. exd5 Ng4 (6... Bg4) 7. Qe2 Bxf2+ 8. Kf1 Bxg1 9. Kxg1 Qe7) (3... d6 4. dxe5 dxe5 5. Qxd8+ Kxd8 6. Nf3 Nc6 (6... Nxe4 7. Nxe5 Be6 (7... Nd6 8. Nxf7+ Nxf7 9. Bxf7) 8. Bxe6 fxe6 9. Nf7+) (6... Bd6 7. Ng5 Ke7 8. Nxf7 Rf8 9. Nxd6 cxd6) 7. Bxf7 { [%cal Gf8d6,Gf6e4,Gc8g4,Gf8c5,Gc5b4] } 7... Nxe4 8. Bd5 Bf5 9. Bxc6 bxc6 10. Nxe5 Bc5 11. Nxc6+ Kd7 12. Ne5+ Kc8 13. Be3 Rb8 14. b3 Bxe3 15. fxe3 Rb5 16. Nd3) (3... Bd6 4. dxe5 Bxe5 5. f4 Bd6 (5... Nxe4 6. Qd5 Qh4+ (6... O-O 7. fxe5 c6 (7... Qh4+ 8. g3 Nxg3 9. hxg3 Qxg3+ 10. Kf1)) 7. g3 Qe7 8. fxe5 Nf6 9. Qxf7+ Qxf7 10. Bxf7+ Kxf7 11. exf6 Re8+ 12. Ne2) 6. e5 Bb4+ (6... Qe7 7. Qe2 O-O 8. exf6 Qxf6 9. Nc3 Bxf4 10. Bxf4 Qxf4 11. Nd5 { [%csl Gd5] }) 7. c3 Bc5 8. exf6) (3... Bb4+ 4. c3 Bd6 (4... d5 5. dxe5 dxc4 (5... Bc5 6. exd5 Ng4 7. Qe2 Bxf2+ (7... O-O 8. Nf3 Bxf2+ 9. Kf1 Bc5 10. h3 Nxe5 11. Qxe5 Nd7) 8. Kf1 Bxg1 9. Kxg1 Qe7 10. Bf4 g5 11. Be3 Nxe5) 6. Qxd8+ Kxd8 7. exf6 Bf8 8. Bg5 g6) (4... Ba5 5. dxe5 Nxe4 6. Qd5 Qh4 7. g3 Qh5 8. Qxe4) 5. dxe5 Bxe5 6. f4 Bd6 7. e5 Bc5 8. exf6 O-O (8... Qxf6 9. Qe2+ Kd8 10. Qh5) 9. Qd5 d6 10. Qg5 g6 11. Ne2 Nd7 12. f5 Qxf6 13. fxg6 hxg6 14. Qxf6 Nxf6) (3... Qe7) 4. Nf3 Nxe4 (4... d5 5. exd5 Nxd5 (5... Bb4+ 6. Nbd2 Nxd5 7. O-O O-O 8. Nb3) 6. O-O (6. Qxd4 Be6 7. O-O Nc6 8. Qe4) 6... Be7 7. Qxd4 Nf6 8. Qxd8+ Bxd8 9. Re1+ Be7 10. Nc3 Nc6 11. Nb5 O-O 12. Nxc7 Rb8) (4... Nc6 { [%cal Ge4e5] } 5. e5 { [%csl Gd5] } 5... d5 { [%csl Gb5][%cal Gc4b5] } (5... Ng4 { [%cal Gf3d4] } 6. O-O Be7 7. Re1 d6 8. exd6 cxd6 (8... Qxd6 9. b3) 9. Bg5 Nge5 10. Bxe7 Qxe7 11. Be2) (5... Ne4 { [%csl Ge2][%cal Gd1e2] }) 6. Bb5 { [%csl Gd7][%cal Gf6e4,Gf6d7] } 6... Ne4 { [%cal Gf3d4] } 7. Nxd4 Bc5 (7... Bd7 8. Bxc6 bxc6 (8... Bxc6 9. O-O Bc5 10. Nxc6 bxc6 11. Nd2 O-O 12. Nxe4 dxe4 13. Bf4) 9. O-O Bc5 10. f3 Ng5 11. f4 (11. Be3 O-O 12. f4 Ne4 (12... Ne6 13. c3 Qe7 14. Nd2) 13. Nd2 Nxd2 14. Qxd2 Bb6 15. Nf3) 11... Ne6 (11... Ne4 12. Be3 Qb8 { Stockfish 13+NNUE\\n\\nDepth 54\\n\\n0.0 13. b3 Bb6 14. Nd2 c5 15. e6 O-O 16. Nf5 Bxe6 17. Ne7+ Kh8 18. Nxe4 dxe4\\n\\n0.0 13. Qd3 Qxb2 14. Nd2 Nxd2 15. Qxd2 O-O 16. a3 Qb7 17. h3 Rfe8 18. Nb3 Bxe3+\\n\\n0.0 13. Nd2 Qxb2 14. Nxe4 dxe4 15. Qd2 Qb4 16. Qf2 Qc3 17. Rfe1 Bb6 18. a4 a5\\n\\n0.0 13. Nc3 Qxb2 14. Nxe4 dxe4 15. Qd2 Qb4 16. Qf2 Qc3 17. } { [%cal Gd1d3,Gb2b3,Gb1c3,Gb1d2,Gd1c1] } (12... O-O 13. Nd2) (12... Bb6) 13. b3 (13. Qc1 Qb6 (13... Bxd4 14. Bxd4 c5 15. Bf2 Bb5 16. Rd1 Nxf2 17. Kxf2 Bc6 18. Qe3 Qb6 19. Nd2 O-O-O 20. a4) 14. c3 a5) 13... Qb6 (13... O-O 14. Qd3 Qb6 15. c3 Bxd4 16. cxd4 Bf5 17. Re1 Qb4 18. Nd2 a5 19. Nxe4 Bxe4 20. Qd2) (13... Bb6 14. c4 Qb7 15. Nd2 c5 16. Ne2 Nxd2 17. Qxd2 dxc4 18. bxc4) 14. Qd3 Bxd4 15. Bxd4 c5 16. Bf2 Bb5) 12. c3 g6 { [%csl Ge3][%cal Gc1e3,Gh2h3] } (12... f5) 13. h3) 8. Be3 Bd7 9. Bxc6 bxc6 (9... Bxc6) 10. Nd2 Nxd2 11. Qxd2) (4... d6 5. Qxd4 Be7 (5... Nc6 6. Qd3 Be7 7. Nc3 O-O 8. Bf4 Bg4 9. O-O-O a6 (9... Bxf3 10. Qxf3 Nd7 11. Qe3 Nce5 12. Bb3 c6 13. h4 { [%cal Gd8c7,Gb7b5,Gh4h5] }) 10. h3 Be6 11. Rhe1 Nd7 12. Bd5 Re8) 6. Nc3 O-O 7. Bf4 a6 8. a3 b5 9. Bd5 c6 10. Ba2 c5 11. Qd2 Nc6 12. O-O Bg4 13. Bd5 Qd7 14. Qd3 Rfe8 15. h3 Bh5 16. Rfe1 Rad8) (4... Bb4+ 5. c3 dxc3 (5... Bc5 6. e5 d5 7. exf6 dxc4 8. fxg7 Rg8) 6. bxc3 d5 (6... Ba5 7. e5 Ne4 8. Qd5 O-O) (6... Bc5 7. O-O d6 (7... O-O 8. e5 d5 (8... Ng4 9. h3 Nh6 10. Bxh6 gxh6 11. Re1 { [%cal Gb1d2] } (11. Nbd2) 11... d5 (11... Nc6 12. Nbd2 d5 13. Bd3)))) 7. exd5 Bd6 8. Qe2+ Qe7 9. Qxe7+ Kxe7 10. O-O Re8 11. Re1+ (11. Nd4)) (4... c5 5. O-O (5. e5 Ne4 (5... d5)) 5... d5 (5... Be7 6. e5 Ng4 (6... Ne4 7. Bd5 { [%cal Gd5e4,Gd5b7] } 7... f5 8. Bh6 Bf8 (8... gxh6 9. Nxd4 Qb6 (9... cxd4 10. Qh5+ Kf8 11. Qf7#) 10. Nxf5 Qxb2 11. Nxe7 Qxa1 12. Qh5+ (12. Bxe4)) 9. Nxd4 cxd4 10. Bxg7 Qa5 11. Qh5+ Kd8 12. Bxe4 Bxg7 13. Qg5+ Kc7 14. Qxg7 Re8 15. Bxf5)) 6. exd5) (4... Bc5 5. e5 d5 6. exf6 dxc4 7. Qe2+ Be6 8. fxg7 Rg8 9. Bg5 Be7 (9... Qd5 10. Nc3 dxc3 (10... Bb4 11. O-O-O Bxc3 12. bxc3 d3 13. cxd3 Qa5 14. dxc4 Qxc3+ 15. Qc2) 11. Rd1 cxb2 12. O-O) 10. Bxe7 Kxe7 (10... Qxe7 11. Nxd4) 11. Qe4 (11. Na3 Qd5 12. O-O-O c3 13. Qb5 Qxa2 14. Qb4+ c5 15. Qxc5+ Ke8 16. bxc3 Nd7 17. Qb4 a5 18. Qb2 Qxb2+) 11... Nc6 12. Qxh7) (4... Be7 5. e5 { [%cal Gf6e4,Gf6g4,Gf6g8,Gd1d4] } 5... Ne4 (5... Ng4 6. Qxd4) (5... Ng8 6. Qxd4) (5... d5 { [%cal Ge5f6] } 6. exf6 dxc4 7. fxe7 Qxe7+ 8. Qe2) 6. Qxd4) 5. Qxd4 Nf6 (5... Nd6 6. O-O Nxc4 7. Re1+ Be7 8. Qxg7) (5... d5 6. Qxd5 Qxd5 7. Bxd5 Bb4+ 8. c3 Nf6 9. Bb3 Bd6 10. Nbd2 O-O) (5... Qe7 6. O-O Nc6 7. Qd1 Nc5) 6. Nc3 (6. Bg5 { Slight in-accuracy, play Nc3 first } 6... Be7) 6... Be7 (6... Nc6 7. Qh4 Be7 (7... Bb4 8. Bg5 Bxc3+ (8... h6 9. O-O-O Bxc3 10. bxc3 d6 11. Rhe1+ Kf8) 9. bxc3 Qe7+ 10. Kd1 d5 11. Re1 Be6 12. Bb5 d4 13. Bxc6+ bxc6 14. cxd4) (7... d5 8. Bg5 (8. Nxd5 Nxd5 9. Bxd5)) 8. Bg5 d6 (8... h6 9. O-O-O O-O 10. Bxh6 gxh6 11. Qxh6) 9. O-O-O O-O 10. Bd3 g6 (10... h6 11. Bxh6) 11. Rhe1) (6... c6 7. Bg5 Qe7+ 8. Ne5 d5 (8... d6) 9. O-O-O dxc4 10. Nxc4 Be6 11. Ne4 Nbd7 12. Ned6+ Kd8 13. Rhe1 h6 14. Bh4 b6) (6... d6 7. Bg5) 7. Bg5 c6 (7... O-O 8. Qh4 h6 9. O-O-O hxg5 10. Nxg5 d6 11. Bd3 Re8 12. Rhe1 Bg4 13. Nce4 Bf5 14. Nxd6 Nh7 (14... Bxd6 { slight misaccuracy by black } 15. Bxf5 Nbd7 16. Bg6 fxg6 17. Qc4+ Kh8 18. Nf7+ Kh7 19. Qh4+ Kg8 20. Nxd8 Raxd8) (14... cxd6 15. Bxf5) 15. Ndxf7 Bxg5+ 16. Nxg5 Bxd3 17. Rxe8+ Qxe8 18. Nxh7 Bxh7 19. Rd8 Nc6 20. Rxe8+ Rxe8 21. Qc4+ Kh8 22. b3 Re1+ 23. Kb2 a5) (7... h6 8. Qh4 d5 (8... c6 9. O-O-O { [%csl Ge1] }) 9. O-O-O c6 10. Rhe1 Be6) (7... Nc6 8. Qh4 d6 9. O-O-O Be6 10. Bxe6 fxe6 11. Rhe1 Qd7 12. Qc4 O-O-O 13. Rxe6) 8. O-O-O d5 9. Rhe1 (9. Bd3 h6 10. Qh4 O-O 11. Rhe1 hxg5 12. Nxg5 Re8 13. Bh7+ Kf8 14. Bd3 Kg8) 9... Be6 (9... O-O 10. Bd3) (9... dxc4 10. Qxd8#) 10. Bd3 (10. Qh4) 10... Nbd7 11. Qh4 { [%cal Gh7h6,Gd8c7,Gd7f8,Gd7c5] } 11... h6 12. Rxe6 fxe6 13. Bg6+ Kf8 14. Qh3 Bd6 15. Re1 e5 16. Nd1 (16. Bd2) 16... Ke7 (16... Qc7 17. Ne3) 17. Ne3 Qf8 18. Nf5+ Kd8 (18... Ke6 19. N3d4#) *',\n",
       "  'pgn': '[Event \"Urusov Gambit: Chapter 1\"]\\n\\n[Site \"https://lichess.org/study/bUmK3HRF/Xh4mmWR8\"]\\n\\n[Result \"*\"]\\n\\n[UTCDate \"2020.11.21\"]\\n\\n[UTCTime \"13:57:40\"]\\n\\n[Variant \"Standard\"]\\n\\n[ECO \"C43\"]\\n\\n[Opening \"Bishop\\'s Opening: Urusov Gambit, Keidansky Gambit\"]\\n\\n[Annotator \"https://lichess.org/@/remyrouyer\"]\\n\\n\\n\\n1. e4 e5 2. Bc4 Nf6 3. d4 exd4 { [%csl Gf8] } (3... Nxe4 4. dxe5 { [%csl Gf3] } 4... d5 (4... Bc5 5. Qd5 Qh4 (5... Bxf2+ 6. Kf1 O-O 7. Qxe4 Bb6 (7... d5 8. Qxd5 Qh4 9. Nf3 Be6) 8. Nc3 c6 9. Bd3 g6 10. Nf3 d5 11. exd6) 6. g3 Bxf2+ 7. Kf1 Bxg3 8. Nc3 O-O 9. Nxe4 c6 10. hxg3 Qxh1 (10... cxd5 11. Rxh4 dxc4) 11. Nf6+ gxf6 12. Qxh1) (4... Nc5 5. Be3 (5. Qd5) 5... Nc6 6. Qe2 (6. Bxc5)) (4... Ng5 5. f4 Ne6) (4... Qh4 5. Be3) (4... Qe7 5. Qe2 Qxe5 (5... Nc5) 6. f3 d5 7. Bb3 Nc6) (4... Nc6 5. Bxf7+ Kxf7 6. Qd5+ Ke8 7. Qxe4 Qe7 8. Nf3 Qb4+ 9. Nc3 Qxe4+) (4... Nxf2 5. Qf3 Qe7 { [%csl Ge7,Gd5] } 6. Qxf2) 5. Bxd5 Nc5 (5... Nxf2 { [%cal Gd1f3] } 6. Qf3 Bb4+ 7. Kxf2 O-O 8. Nc3 Be6 9. Bxb7 Nd7 10. Bxa8 Nxe5 11. Qe4) 6. Bxf7+ Ke7 (6... Kxf7 7. Qxd8) 7. Bg5+ Kxf7 8. Qxd8) (3... Nc6 4. d5 Na5 (4... Ne7) 5. Bd3 b6 (5... Bc5 6. a3 Bb6 7. b4)) (3... d5 4. dxe5 Bb4+ 5. c3 Bc5 6. exd5 Ng4 (6... Bg4) 7. Qe2 Bxf2+ 8. Kf1 Bxg1 9. Kxg1 Qe7) (3... d6 4. dxe5 dxe5 5. Qxd8+ Kxd8 6. Nf3 Nc6 (6... Nxe4 7. Nxe5 Be6 (7... Nd6 8. Nxf7+ Nxf7 9. Bxf7) 8. Bxe6 fxe6 9. Nf7+) (6... Bd6 7. Ng5 Ke7 8. Nxf7 Rf8 9. Nxd6 cxd6) 7. Bxf7 { [%cal Gf8d6,Gf6e4,Gc8g4,Gf8c5,Gc5b4] } 7... Nxe4 8. Bd5 Bf5 9. Bxc6 bxc6 10. Nxe5 Bc5 11. Nxc6+ Kd7 12. Ne5+ Kc8 13. Be3 Rb8 14. b3 Bxe3 15. fxe3 Rb5 16. Nd3) (3... Bd6 4. dxe5 Bxe5 5. f4 Bd6 (5... Nxe4 6. Qd5 Qh4+ (6... O-O 7. fxe5 c6 (7... Qh4+ 8. g3 Nxg3 9. hxg3 Qxg3+ 10. Kf1)) 7. g3 Qe7 8. fxe5 Nf6 9. Qxf7+ Qxf7 10. Bxf7+ Kxf7 11. exf6 Re8+ 12. Ne2) 6. e5 Bb4+ (6... Qe7 7. Qe2 O-O 8. exf6 Qxf6 9. Nc3 Bxf4 10. Bxf4 Qxf4 11. Nd5 { [%csl Gd5] }) 7. c3 Bc5 8. exf6) (3... Bb4+ 4. c3 Bd6 (4... d5 5. dxe5 dxc4 (5... Bc5 6. exd5 Ng4 7. Qe2 Bxf2+ (7... O-O 8. Nf3 Bxf2+ 9. Kf1 Bc5 10. h3 Nxe5 11. Qxe5 Nd7) 8. Kf1 Bxg1 9. Kxg1 Qe7 10. Bf4 g5 11. Be3 Nxe5) 6. Qxd8+ Kxd8 7. exf6 Bf8 8. Bg5 g6) (4... Ba5 5. dxe5 Nxe4 6. Qd5 Qh4 7. g3 Qh5 8. Qxe4) 5. dxe5 Bxe5 6. f4 Bd6 7. e5 Bc5 8. exf6 O-O (8... Qxf6 9. Qe2+ Kd8 10. Qh5) 9. Qd5 d6 10. Qg5 g6 11. Ne2 Nd7 12. f5 Qxf6 13. fxg6 hxg6 14. Qxf6 Nxf6) (3... Qe7) 4. Nf3 Nxe4 (4... d5 5. exd5 Nxd5 (5... Bb4+ 6. Nbd2 Nxd5 7. O-O O-O 8. Nb3) 6. O-O (6. Qxd4 Be6 7. O-O Nc6 8. Qe4) 6... Be7 7. Qxd4 Nf6 8. Qxd8+ Bxd8 9. Re1+ Be7 10. Nc3 Nc6 11. Nb5 O-O 12. Nxc7 Rb8) (4... Nc6 { [%cal Ge4e5] } 5. e5 { [%csl Gd5] } 5... d5 { [%csl Gb5][%cal Gc4b5] } (5... Ng4 { [%cal Gf3d4] } 6. O-O Be7 7. Re1 d6 8. exd6 cxd6 (8... Qxd6 9. b3) 9. Bg5 Nge5 10. Bxe7 Qxe7 11. Be2) (5... Ne4 { [%csl Ge2][%cal Gd1e2] }) 6. Bb5 { [%csl Gd7][%cal Gf6e4,Gf6d7] } 6... Ne4 { [%cal Gf3d4] } 7. Nxd4 Bc5 (7... Bd7 8. Bxc6 bxc6 (8... Bxc6 9. O-O Bc5 10. Nxc6 bxc6 11. Nd2 O-O 12. Nxe4 dxe4 13. Bf4) 9. O-O Bc5 10. f3 Ng5 11. f4 (11. Be3 O-O 12. f4 Ne4 (12... Ne6 13. c3 Qe7 14. Nd2) 13. Nd2 Nxd2 14. Qxd2 Bb6 15. Nf3) 11... Ne6 (11... Ne4 12. Be3 Qb8 { Stockfish 13+NNUE\\n\\nDepth 54\\n\\n0.0 13. b3 Bb6 14. Nd2 c5 15. e6 O-O 16. Nf5 Bxe6 17. Ne7+ Kh8 18. Nxe4 dxe4\\n\\n0.0 13. Qd3 Qxb2 14. Nd2 Nxd2 15. Qxd2 O-O 16. a3 Qb7 17. h3 Rfe8 18. Nb3 Bxe3+\\n\\n0.0 13. Nd2 Qxb2 14. Nxe4 dxe4 15. Qd2 Qb4 16. Qf2 Qc3 17. Rfe1 Bb6 18. a4 a5\\n\\n0.0 13. Nc3 Qxb2 14. Nxe4 dxe4 15. Qd2 Qb4 16. Qf2 Qc3 17. } { [%cal Gd1d3,Gb2b3,Gb1c3,Gb1d2,Gd1c1] } (12... O-O 13. Nd2) (12... Bb6) 13. b3 (13. Qc1 Qb6 (13... Bxd4 14. Bxd4 c5 15. Bf2 Bb5 16. Rd1 Nxf2 17. Kxf2 Bc6 18. Qe3 Qb6 19. Nd2 O-O-O 20. a4) 14. c3 a5) 13... Qb6 (13... O-O 14. Qd3 Qb6 15. c3 Bxd4 16. cxd4 Bf5 17. Re1 Qb4 18. Nd2 a5 19. Nxe4 Bxe4 20. Qd2) (13... Bb6 14. c4 Qb7 15. Nd2 c5 16. Ne2 Nxd2 17. Qxd2 dxc4 18. bxc4) 14. Qd3 Bxd4 15. Bxd4 c5 16. Bf2 Bb5) 12. c3 g6 { [%csl Ge3][%cal Gc1e3,Gh2h3] } (12... f5) 13. h3) 8. Be3 Bd7 9. Bxc6 bxc6 (9... Bxc6) 10. Nd2 Nxd2 11. Qxd2) (4... d6 5. Qxd4 Be7 (5... Nc6 6. Qd3 Be7 7. Nc3 O-O 8. Bf4 Bg4 9. O-O-O a6 (9... Bxf3 10. Qxf3 Nd7 11. Qe3 Nce5 12. Bb3 c6 13. h4 { [%cal Gd8c7,Gb7b5,Gh4h5] }) 10. h3 Be6 11. Rhe1 Nd7 12. Bd5 Re8) 6. Nc3 O-O 7. Bf4 a6 8. a3 b5 9. Bd5 c6 10. Ba2 c5 11. Qd2 Nc6 12. O-O Bg4 13. Bd5 Qd7 14. Qd3 Rfe8 15. h3 Bh5 16. Rfe1 Rad8) (4... Bb4+ 5. c3 dxc3 (5... Bc5 6. e5 d5 7. exf6 dxc4 8. fxg7 Rg8) 6. bxc3 d5 (6... Ba5 7. e5 Ne4 8. Qd5 O-O) (6... Bc5 7. O-O d6 (7... O-O 8. e5 d5 (8... Ng4 9. h3 Nh6 10. Bxh6 gxh6 11. Re1 { [%cal Gb1d2] } (11. Nbd2) 11... d5 (11... Nc6 12. Nbd2 d5 13. Bd3)))) 7. exd5 Bd6 8. Qe2+ Qe7 9. Qxe7+ Kxe7 10. O-O Re8 11. Re1+ (11. Nd4)) (4... c5 5. O-O (5. e5 Ne4 (5... d5)) 5... d5 (5... Be7 6. e5 Ng4 (6... Ne4 7. Bd5 { [%cal Gd5e4,Gd5b7] } 7... f5 8. Bh6 Bf8 (8... gxh6 9. Nxd4 Qb6 (9... cxd4 10. Qh5+ Kf8 11. Qf7#) 10. Nxf5 Qxb2 11. Nxe7 Qxa1 12. Qh5+ (12. Bxe4)) 9. Nxd4 cxd4 10. Bxg7 Qa5 11. Qh5+ Kd8 12. Bxe4 Bxg7 13. Qg5+ Kc7 14. Qxg7 Re8 15. Bxf5)) 6. exd5) (4... Bc5 5. e5 d5 6. exf6 dxc4 7. Qe2+ Be6 8. fxg7 Rg8 9. Bg5 Be7 (9... Qd5 10. Nc3 dxc3 (10... Bb4 11. O-O-O Bxc3 12. bxc3 d3 13. cxd3 Qa5 14. dxc4 Qxc3+ 15. Qc2) 11. Rd1 cxb2 12. O-O) 10. Bxe7 Kxe7 (10... Qxe7 11. Nxd4) 11. Qe4 (11. Na3 Qd5 12. O-O-O c3 13. Qb5 Qxa2 14. Qb4+ c5 15. Qxc5+ Ke8 16. bxc3 Nd7 17. Qb4 a5 18. Qb2 Qxb2+) 11... Nc6 12. Qxh7) (4... Be7 5. e5 { [%cal Gf6e4,Gf6g4,Gf6g8,Gd1d4] } 5... Ne4 (5... Ng4 6. Qxd4) (5... Ng8 6. Qxd4) (5... d5 { [%cal Ge5f6] } 6. exf6 dxc4 7. fxe7 Qxe7+ 8. Qe2) 6. Qxd4) 5. Qxd4 Nf6 (5... Nd6 6. O-O Nxc4 7. Re1+ Be7 8. Qxg7) (5... d5 6. Qxd5 Qxd5 7. Bxd5 Bb4+ 8. c3 Nf6 9. Bb3 Bd6 10. Nbd2 O-O) (5... Qe7 6. O-O Nc6 7. Qd1 Nc5) 6. Nc3 (6. Bg5 { Slight in-accuracy, play Nc3 first } 6... Be7) 6... Be7 (6... Nc6 7. Qh4 Be7 (7... Bb4 8. Bg5 Bxc3+ (8... h6 9. O-O-O Bxc3 10. bxc3 d6 11. Rhe1+ Kf8) 9. bxc3 Qe7+ 10. Kd1 d5 11. Re1 Be6 12. Bb5 d4 13. Bxc6+ bxc6 14. cxd4) (7... d5 8. Bg5 (8. Nxd5 Nxd5 9. Bxd5)) 8. Bg5 d6 (8... h6 9. O-O-O O-O 10. Bxh6 gxh6 11. Qxh6) 9. O-O-O O-O 10. Bd3 g6 (10... h6 11. Bxh6) 11. Rhe1) (6... c6 7. Bg5 Qe7+ 8. Ne5 d5 (8... d6) 9. O-O-O dxc4 10. Nxc4 Be6 11. Ne4 Nbd7 12. Ned6+ Kd8 13. Rhe1 h6 14. Bh4 b6) (6... d6 7. Bg5) 7. Bg5 c6 (7... O-O 8. Qh4 h6 9. O-O-O hxg5 10. Nxg5 d6 11. Bd3 Re8 12. Rhe1 Bg4 13. Nce4 Bf5 14. Nxd6 Nh7 (14... Bxd6 { slight misaccuracy by black } 15. Bxf5 Nbd7 16. Bg6 fxg6 17. Qc4+ Kh8 18. Nf7+ Kh7 19. Qh4+ Kg8 20. Nxd8 Raxd8) (14... cxd6 15. Bxf5) 15. Ndxf7 Bxg5+ 16. Nxg5 Bxd3 17. Rxe8+ Qxe8 18. Nxh7 Bxh7 19. Rd8 Nc6 20. Rxe8+ Rxe8 21. Qc4+ Kh8 22. b3 Re1+ 23. Kb2 a5) (7... h6 8. Qh4 d5 (8... c6 9. O-O-O { [%csl Ge1] }) 9. O-O-O c6 10. Rhe1 Be6) (7... Nc6 8. Qh4 d6 9. O-O-O Be6 10. Bxe6 fxe6 11. Rhe1 Qd7 12. Qc4 O-O-O 13. Rxe6) 8. O-O-O d5 9. Rhe1 (9. Bd3 h6 10. Qh4 O-O 11. Rhe1 hxg5 12. Nxg5 Re8 13. Bh7+ Kf8 14. Bd3 Kg8) 9... Be6 (9... O-O 10. Bd3) (9... dxc4 10. Qxd8#) 10. Bd3 (10. Qh4) 10... Nbd7 11. Qh4 { [%cal Gh7h6,Gd8c7,Gd7f8,Gd7c5] } 11... h6 12. Rxe6 fxe6 13. Bg6+ Kf8 14. Qh3 Bd6 15. Re1 e5 16. Nd1 (16. Bd2) 16... Ke7 (16... Qc7 17. Ne3) 17. Ne3 Qf8 18. Nf5+ Kd8 (18... Ke6 19. N3d4#) *\\n\\n\\n\\n\\n\\n[Event \"Urusov Gambit: eric rosen\"]\\n\\n'},\n",
       " {'event ': 'Urusov Gambit: eric rosen',\n",
       "  'site ': 'https://lichess.org/study/bUmK3HRF/pW4LF2xK',\n",
       "  'result ': '*',\n",
       "  'utcdate ': '2021.03.28',\n",
       "  'utctime ': '21:57:10',\n",
       "  'variant ': 'Standard',\n",
       "  'eco ': 'C44',\n",
       "  'opening ': 'Scotch Game: Scotch Gambit, Advance Variation',\n",
       "  'annotator ': 'https://lichess.org/@/remyrouyer',\n",
       "  'moves': '1. e4 e5 2. Bc4 Nf6 3. d4 exd4 4. Nf3 Nc6 5. e5 d5 6. Bb5 Ne4 7. Nxd4 Bd7 8. Bxc6 bxc6 (8... Bxc6) 9. O-O Bc5 10. f3 Ng5 11. f4 Ne4 (11... Ne6 12. c3 Bb6 (12... O-O 13. f5 Nxd4 14. cxd4 Bb6 15. a4 (15. Be3 Qh4 16. Nc3)) 13. f5 Nxd4 (13... Ng5 14. Qg4 h6 15. h4) 14. cxd4 Qh4 15. Rf4 Qe7 16. a4 a5 17. Kh1 g6 (17... c5 18. Nc3 c6 19. f6 gxf6 20. exf6 Qe6 21. dxc5 Bc7 22. Rf3 Kd8 23. Be3)) 12. Be3 (12. Kh1) 12... O-O (12... Qb8 13. b3 Qb6 14. Qd3 Bxd4 15. Bxd4 c5 16. Bf2 Bf5 (16... Bb5 17. c4) 17. Qxd5 O-O (17... Rd8 18. Qc4) 18. Qd3) 13. Nd2 Nxd2 14. Qxd2 Bb6 { [%cal Gd4b3,Gc2c3,Gd4f3,Gb6g1] } *',\n",
       "  'pgn': '[Site \"https://lichess.org/study/bUmK3HRF/pW4LF2xK\"]\\n\\n[Result \"*\"]\\n\\n[UTCDate \"2021.03.28\"]\\n\\n[UTCTime \"21:57:10\"]\\n\\n[Variant \"Standard\"]\\n\\n[ECO \"C44\"]\\n\\n[Opening \"Scotch Game: Scotch Gambit, Advance Variation\"]\\n\\n[Annotator \"https://lichess.org/@/remyrouyer\"]\\n\\n\\n\\n1. e4 e5 2. Bc4 Nf6 3. d4 exd4 4. Nf3 Nc6 5. e5 d5 6. Bb5 Ne4 7. Nxd4 Bd7 8. Bxc6 bxc6 (8... Bxc6) 9. O-O Bc5 10. f3 Ng5 11. f4 Ne4 (11... Ne6 12. c3 Bb6 (12... O-O 13. f5 Nxd4 14. cxd4 Bb6 15. a4 (15. Be3 Qh4 16. Nc3)) 13. f5 Nxd4 (13... Ng5 14. Qg4 h6 15. h4) 14. cxd4 Qh4 15. Rf4 Qe7 16. a4 a5 17. Kh1 g6 (17... c5 18. Nc3 c6 19. f6 gxf6 20. exf6 Qe6 21. dxc5 Bc7 22. Rf3 Kd8 23. Be3)) 12. Be3 (12. Kh1) 12... O-O (12... Qb8 13. b3 Qb6 14. Qd3 Bxd4 15. Bxd4 c5 16. Bf2 Bf5 (16... Bb5 17. c4) 17. Qxd5 O-O (17... Rd8 18. Qc4) 18. Qd3) 13. Nd2 Nxd2 14. Qxd2 Bb6 { [%cal Gd4b3,Gc2c3,Gd4f3,Gb6g1] } *\\n\\n\\n\\n\\n\\n[Event \"Urusov Gambit: Chapter 3\"]\\n\\n'},\n",
       " {'event ': 'Urusov Gambit: Chapter 3',\n",
       "  'site ': 'https://lichess.org/study/bUmK3HRF/jTrTUFW4',\n",
       "  'result ': '*',\n",
       "  'utcdate ': '2022.01.14',\n",
       "  'utctime ': '03:01:40',\n",
       "  'variant ': 'Standard',\n",
       "  'eco ': 'C55',\n",
       "  'opening ': 'Italian Game: Two Knights Defense, Open Variation',\n",
       "  'annotator ': 'https://lichess.org/@/remyrouyer',\n",
       "  'moves': '1. e4 e5 2. Bc4 Nf6 3. d4 Nc6 4. Nf3 Bb4+ 5. c3 Ba5 6. dxe5 *',\n",
       "  'pgn': '[Site \"https://lichess.org/study/bUmK3HRF/jTrTUFW4\"]\\n\\n[Result \"*\"]\\n\\n[UTCDate \"2022.01.14\"]\\n\\n[UTCTime \"03:01:40\"]\\n\\n[Variant \"Standard\"]\\n\\n[ECO \"C55\"]\\n\\n[Opening \"Italian Game: Two Knights Defense, Open Variation\"]\\n\\n[Annotator \"https://lichess.org/@/remyrouyer\"]\\n\\n\\n\\n1. e4 e5 2. Bc4 Nf6 3. d4 Nc6 4. Nf3 Bb4+ 5. c3 Ba5 6. dxe5 *\\n\\n\\n\\n\\n\\n'}]"
      ]
     },
     "execution_count": 3,
     "metadata": {},
     "output_type": "execute_result"
    }
   ],
   "source": [
    "games"
   ]
  },
  {
   "cell_type": "code",
   "execution_count": null,
   "id": "eef85699-f51f-4a26-bb40-bcfa7d124bab",
   "metadata": {},
   "outputs": [],
   "source": []
  }
 ],
 "metadata": {
  "kernelspec": {
   "display_name": "Python 3 (ipykernel)",
   "language": "python",
   "name": "python3"
  },
  "language_info": {
   "codemirror_mode": {
    "name": "ipython",
    "version": 3
   },
   "file_extension": ".py",
   "mimetype": "text/x-python",
   "name": "python",
   "nbconvert_exporter": "python",
   "pygments_lexer": "ipython3",
   "version": "3.11.5"
  }
 },
 "nbformat": 4,
 "nbformat_minor": 5
}
